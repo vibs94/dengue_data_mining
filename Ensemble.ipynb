{
 "cells": [
  {
   "cell_type": "code",
   "execution_count": 1,
   "metadata": {},
   "outputs": [],
   "source": [
    "import matplotlib as mpl\n",
    "import matplotlib.pyplot as plt\n",
    "import numpy as np\n",
    "import pandas as pd\n",
    "import seaborn as sns\n",
    "\n",
    "from sklearn.dummy import DummyRegressor\n",
    "from sklearn.linear_model import LinearRegression\n",
    "from sklearn.neighbors import KNeighborsRegressor\n",
    "from sklearn.svm import SVR\n",
    "from sklearn.ensemble import GradientBoostingRegressor\n",
    "from sklearn.ensemble import RandomForestRegressor\n",
    "from sklearn.neural_network import MLPRegressor\n",
    "\n",
    "from sklearn.metrics import mean_absolute_error\n",
    "\n",
    "from sklearn.model_selection import train_test_split\n",
    "from sklearn.model_selection import cross_val_score\n",
    "from sklearn.model_selection import GridSearchCV\n",
    "\n",
    "from sklearn.preprocessing import Imputer\n",
    "\n",
    "%matplotlib inline"
   ]
  },
  {
   "cell_type": "code",
   "execution_count": 13,
   "metadata": {},
   "outputs": [
    {
     "name": "stdout",
     "output_type": "stream",
     "text": [
      "  city  year  weekofyear  total_cases\n",
      "0   sj  2008          18           10\n",
      "1   sj  2008          19           10\n",
      "2   sj  2008          20           10\n",
      "3   sj  2008          21           10\n",
      "4   sj  2008          22           10\n",
      "  city  year  weekofyear  total_cases\n",
      "0   sj  2008          18           10\n",
      "1   sj  2008          19           10\n",
      "2   sj  2008          20           10\n",
      "3   sj  2008          21           10\n",
      "4   sj  2008          22            9\n",
      "  city  year  weekofyear  total_cases\n",
      "0   sj  2008          18           10\n",
      "1   sj  2008          19           10\n",
      "2   sj  2008          20           10\n",
      "3   sj  2008          21           10\n",
      "4   sj  2008          22            9\n"
     ]
    },
    {
     "data": {
      "text/plain": [
       "0    9\n",
       "1    9\n",
       "2    9\n",
       "3    9\n",
       "4    9\n",
       "Name: total_cases, dtype: int32"
      ]
     },
     "execution_count": 13,
     "metadata": {},
     "output_type": "execute_result"
    }
   ],
   "source": [
    "pred1 = pd.read_csv('dengue_submission_007.csv')\n",
    "print(pred1.head())\n",
    "pred2 = pd.read_csv('submission_1.4.csv')\n",
    "print(pred2.head())\n",
    "\n",
    "pred = (pred1['total_cases']+pred2['total_cases']+pred3['total_cases'])/2.0\n",
    "\n",
    "pred = pred.round().astype(int)\n",
    "pred.head()\n"
   ]
  },
  {
   "cell_type": "code",
   "execution_count": 14,
   "metadata": {},
   "outputs": [
    {
     "name": "stdout",
     "output_type": "stream",
     "text": [
      "  city  year  weekofyear  total_cases\n",
      "0   sj  2008          18            9\n",
      "1   sj  2008          19            9\n",
      "2   sj  2008          20            9\n",
      "3   sj  2008          21            9\n",
      "4   sj  2008          22            9\n"
     ]
    }
   ],
   "source": [
    "submission = pd.read_csv(\"submission_format.csv\")\n",
    "submission['total_cases'] = pred\n",
    "print(submission.head())\n",
    "submission.to_csv(\"submission_1.6.csv\",index=False)"
   ]
  },
  {
   "cell_type": "code",
   "execution_count": null,
   "metadata": {},
   "outputs": [],
   "source": []
  }
 ],
 "metadata": {
  "kernelspec": {
   "display_name": "Python 3",
   "language": "python",
   "name": "python3"
  },
  "language_info": {
   "codemirror_mode": {
    "name": "ipython",
    "version": 3
   },
   "file_extension": ".py",
   "mimetype": "text/x-python",
   "name": "python",
   "nbconvert_exporter": "python",
   "pygments_lexer": "ipython3",
   "version": "3.6.4"
  }
 },
 "nbformat": 4,
 "nbformat_minor": 2
}
